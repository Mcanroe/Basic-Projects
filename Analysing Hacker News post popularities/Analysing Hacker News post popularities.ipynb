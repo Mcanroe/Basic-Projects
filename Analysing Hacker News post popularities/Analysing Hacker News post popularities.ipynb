{
 "cells": [
  {
   "cell_type": "markdown",
   "metadata": {
    "collapsed": true
   },
   "source": [
    "# Analysing Hacker News post popularities\n",
    "\n",
    "In this project, we are analysing [Hacker News](https://news.ycombinator.com/) posts to analyse which type of posts receive more attention and points.\n",
    "\n",
    "Specifically, we are looking for posts that begin with Ask HN ( Type of post where users ask a question) and Show HN ( Type of post where users post a project or generally something interesting).\n",
    "\n",
    "We will also check if posting at a certain time receives more comments and  points on average.\n",
    "\n",
    "The dataset we are working with has been reduced, in which, posts that had no comments have been removed and the remaining submissions have then been randomly sampled.\n",
    "\n",
    "Dataset used : [Hacker News Posts](https://www.kaggle.com/hacker-news/hacker-news-posts/home)"
   ]
  },
  {
   "cell_type": "code",
   "execution_count": 3,
   "metadata": {
    "collapsed": false
   },
   "outputs": [
    {
     "name": "stdout",
     "output_type": "stream",
     "text": [
      "['id', 'title', 'url', 'num_points', 'num_comments', 'author', 'created_at'] \n",
      "\n",
      "['12224879', 'Interactive Dynamic Video', 'http://www.interactivedynamicvideo.com/', '386', '52', 'ne0phyte', '8/4/2016 11:52'] \n",
      "\n",
      "['10975351', 'How to Use Open Source and Shut the Fuck Up at the Same Time', 'http://hueniverse.com/2016/01/26/how-to-use-open-source-and-shut-the-fuck-up-at-the-same-time/', '39', '10', 'josep2', '1/26/2016 19:30'] \n",
      "\n",
      "['11964716', \"Florida DJs May Face Felony for April Fools' Water Joke\", 'http://www.thewire.com/entertainment/2013/04/florida-djs-april-fools-water-joke/63798/', '2', '1', 'vezycash', '6/23/2016 22:20'] \n",
      "\n",
      "['11919867', 'Technology ventures: From Idea to Enterprise', 'https://www.amazon.com/Technology-Ventures-Enterprise-Thomas-Byers/dp/0073523429', '3', '1', 'hswarna', '6/17/2016 0:01'] \n",
      "\n"
     ]
    }
   ],
   "source": [
    "opf = open(\"hacker_news.csv\")\n",
    "from csv import reader\n",
    "#Reading the loaded file\n",
    "rf = reader(opf)\n",
    "#Assigning it in a list format\n",
    "hn = list(rf)\n",
    "#Displaying first five rows , using for loop for a cleaner output\n",
    "limit = 5\n",
    "for l in range(0,limit):\n",
    "     print (hn[l],'\\n')\n",
    "    \n",
    "    \n",
    "    "
   ]
  },
  {
   "cell_type": "markdown",
   "metadata": {},
   "source": [
    "# Cleaning the Data"
   ]
  },
  {
   "cell_type": "markdown",
   "metadata": {},
   "source": [
    "We see that the first row seems to be the column header. As such, we will separate this row from our list."
   ]
  },
  {
   "cell_type": "code",
   "execution_count": 4,
   "metadata": {
    "collapsed": false
   },
   "outputs": [
    {
     "name": "stdout",
     "output_type": "stream",
     "text": [
      "Header is \n",
      " \n",
      " ['id', 'title', 'url', 'num_points', 'num_comments', 'author', 'created_at']\n",
      "\n",
      " Table is: \n",
      "\n",
      "['12224879', 'Interactive Dynamic Video', 'http://www.interactivedynamicvideo.com/', '386', '52', 'ne0phyte', '8/4/2016 11:52'] \n",
      "\n",
      "['10975351', 'How to Use Open Source and Shut the Fuck Up at the Same Time', 'http://hueniverse.com/2016/01/26/how-to-use-open-source-and-shut-the-fuck-up-at-the-same-time/', '39', '10', 'josep2', '1/26/2016 19:30'] \n",
      "\n",
      "['11964716', \"Florida DJs May Face Felony for April Fools' Water Joke\", 'http://www.thewire.com/entertainment/2013/04/florida-djs-april-fools-water-joke/63798/', '2', '1', 'vezycash', '6/23/2016 22:20'] \n",
      "\n",
      "['11919867', 'Technology ventures: From Idea to Enterprise', 'https://www.amazon.com/Technology-Ventures-Enterprise-Thomas-Byers/dp/0073523429', '3', '1', 'hswarna', '6/17/2016 0:01'] \n",
      "\n",
      "['10301696', 'Note by Note: The Making of Steinway L1037 (2007)', 'http://www.nytimes.com/2007/11/07/movies/07stein.html?_r=0', '8', '2', 'walterbell', '9/30/2015 4:12'] \n",
      "\n"
     ]
    }
   ],
   "source": [
    "hn_header = hn[0] #Setting the header in another list\n",
    "print (\"Header is \\n \\n\",hn_header)\n",
    "hn=hn[1:]\n",
    "print(\"\\n Table is: \\n\")\n",
    "for l in range(0,limit):\n",
    "     print (hn[l],'\\n')"
   ]
  },
  {
   "cell_type": "markdown",
   "metadata": {},
   "source": [
    "# Separating the Required Posts"
   ]
  },
  {
   "cell_type": "markdown",
   "metadata": {},
   "source": [
    "Since we are only interested in analysing posts that begin with Show HN or Ask Hn, we will separate these posts accordingly."
   ]
  },
  {
   "cell_type": "code",
   "execution_count": 95,
   "metadata": {
    "collapsed": false
   },
   "outputs": [
    {
     "name": "stdout",
     "output_type": "stream",
     "text": [
      "\n",
      " The number of ask hn posts are 1744 \n",
      "\n",
      "\n",
      " Few of them are:\n",
      " [['12296411', 'Ask HN: How to improve my personal website?', '', '2', '6', 'ahmedbaracat', '8/16/2016 9:55'], ['10610020', 'Ask HN: Am I the only one outraged by Twitter shutting down share counts?', '', '28', '29', 'tkfx', '11/22/2015 13:43'], ['11610310', 'Ask HN: Aby recent changes to CSS that broke mobile?', '', '1', '1', 'polskibus', '5/2/2016 10:14'], ['12210105', 'Ask HN: Looking for Employee #3 How do I do it?', '', '1', '3', 'sph130', '8/2/2016 14:20'], ['10394168', 'Ask HN: Someone offered to buy my browser extension from me. What now?', '', '28', '17', 'roykolak', '10/15/2015 16:38']]\n",
      "\n",
      " The number of show hn posts are 1162 \n",
      "\n",
      "\n",
      " Few of them are: \n",
      " [['10627194', 'Show HN: Wio Link  ESP8266 Based Web of Things Hardware Development Platform', 'https://iot.seeed.cc', '26', '22', 'kfihihc', '11/25/2015 14:03'], ['10646440', 'Show HN: Something pointless I made', 'http://dn.ht/picklecat/', '747', '102', 'dhotson', '11/29/2015 22:46'], ['11590768', 'Show HN: Shanhu.io, a programming playground powered by e8vm', 'https://shanhu.io', '1', '1', 'h8liu', '4/28/2016 18:05'], ['12178806', 'Show HN: Webscope  Easy way for web developers to communicate with Clients', 'http://webscopeapp.com', '3', '3', 'fastbrick', '7/28/2016 7:11'], ['10872799', 'Show HN: GeoScreenshot  Easily test Geo-IP based web pages', 'https://www.geoscreenshot.com/', '1', '9', 'kpsychwave', '1/9/2016 20:45']]\n",
      "\n",
      " The number of remaining posts are 17194 \n",
      "\n",
      "\n",
      " Few of them are: \n",
      " [['12224879', 'Interactive Dynamic Video', 'http://www.interactivedynamicvideo.com/', '386', '52', 'ne0phyte', '8/4/2016 11:52'], ['10975351', 'How to Use Open Source and Shut the Fuck Up at the Same Time', 'http://hueniverse.com/2016/01/26/how-to-use-open-source-and-shut-the-fuck-up-at-the-same-time/', '39', '10', 'josep2', '1/26/2016 19:30'], ['11964716', \"Florida DJs May Face Felony for April Fools' Water Joke\", 'http://www.thewire.com/entertainment/2013/04/florida-djs-april-fools-water-joke/63798/', '2', '1', 'vezycash', '6/23/2016 22:20'], ['11919867', 'Technology ventures: From Idea to Enterprise', 'https://www.amazon.com/Technology-Ventures-Enterprise-Thomas-Byers/dp/0073523429', '3', '1', 'hswarna', '6/17/2016 0:01'], ['10301696', 'Note by Note: The Making of Steinway L1037 (2007)', 'http://www.nytimes.com/2007/11/07/movies/07stein.html?_r=0', '8', '2', 'walterbell', '9/30/2015 4:12']]\n"
     ]
    }
   ],
   "source": [
    "#Posts that start with AskHN\n",
    "aposts = []\n",
    "#Posts that start with ShowHN\n",
    "sposts = []\n",
    "#All other posts\n",
    "oposts = []\n",
    "for row in hn:\n",
    "    title = row[1]\n",
    "    title = title.lower() #Setting capitalization to lower case\n",
    "    if(title.startswith(\"ask hn\")):\n",
    "        #Add to ask post lists if title starts with ask hn\n",
    "        aposts.append(row) \n",
    "    elif(title.startswith(\"show hn\")):\n",
    "         #Add to ask post lists if title starts with show hn\n",
    "        sposts.append(row)\n",
    "    else:\n",
    "        #Add all other posts to this list\n",
    "        oposts.append(row)\n",
    "print(\"\\n The number of ask hn posts are\",len(aposts),'\\n')\n",
    "print(\"\\n Few of them are:\\n\",aposts[:5])\n",
    "print(\"\\n The number of show hn posts are\",len(sposts),'\\n')\n",
    "print(\"\\n Few of them are: \\n\",sposts[:5])\n",
    "print(\"\\n The number of remaining posts are\",len(oposts),'\\n')\n",
    "print(\"\\n Few of them are: \\n\",oposts[:5])"
   ]
  },
  {
   "cell_type": "markdown",
   "metadata": {},
   "source": [
    "# Determining the Average amount of comments for ShowHN and AskHN Posts"
   ]
  },
  {
   "cell_type": "markdown",
   "metadata": {
    "collapsed": true
   },
   "source": [
    "Now that we have separated the lists, we can determine which type of posts receive more comments on average."
   ]
  },
  {
   "cell_type": "code",
   "execution_count": 111,
   "metadata": {
    "collapsed": false
   },
   "outputs": [
    {
     "name": "stdout",
     "output_type": "stream",
     "text": [
      "The average number of comments for an ask post is : 14\n",
      "The average number of comments for an show post is : 10\n"
     ]
    }
   ],
   "source": [
    "totcom_show = 0 #Total comments for ShowHN type post\n",
    "totcom_ask = 0 #Total comments for AskHN type post\n",
    "for row in aposts:\n",
    "    comments = int(row[4])\n",
    "    totcom_ask += comments\n",
    "avgaskcom = int(totcom_ask/len(aposts)) #Average comments for ask type post\n",
    "for row in sposts:\n",
    "    comments = int(row[4])\n",
    "    totcom_show += comments\n",
    "avgshowcom = int(totcom_show/len(sposts)) #Average comments for show type post\n",
    "\n",
    "print(\"The average number of comments for an ask post is :\",avgaskcom)\n",
    "print(\"The average number of comments for an show post is :\",avgshowcom)    "
   ]
  },
  {
   "cell_type": "markdown",
   "metadata": {},
   "source": [
    "We see that the average number of comments for an ask post is higher, which could potentially mean that user engagement is higher when they can contribute something to the conversation or provide some help.\n",
    "\n",
    "In the case of a show post, one reason for a lower amount of comments could be that users simply view the project , give it a point and move on."
   ]
  },
  {
   "cell_type": "markdown",
   "metadata": {},
   "source": [
    "# Determining the average amount of AskHN posts and comments each hour"
   ]
  },
  {
   "cell_type": "markdown",
   "metadata": {},
   "source": [
    "Since we have deduced that AskHN posts receive more comments, we will continue our study only pertaining to the AskHN list.\n",
    "\n",
    "We will create frequency tables to store the posts and comments per hour."
   ]
  },
  {
   "cell_type": "code",
   "execution_count": 121,
   "metadata": {
    "collapsed": false
   },
   "outputs": [
    {
     "name": "stdout",
     "output_type": "stream",
     "text": [
      "The number of comments per hour for AskHN posts: \n",
      " {'21': 1745, '00': 447, '23': 543, '13': 1253, '14': 1416, '04': 337, '11': 641, '10': 793, '12': 687, '02': 1381, '22': 479, '03': 421, '06': 397, '18': 1439, '09': 251, '07': 267, '08': 492, '15': 4477, '05': 464, '16': 1814, '01': 683, '19': 1188, '20': 1722, '17': 1146} \n",
      "\n",
      "The number of AskHN posts per hour : \n",
      " {'21': 109, '00': 55, '23': 68, '13': 85, '14': 107, '04': 47, '11': 58, '10': 59, '12': 73, '02': 58, '22': 71, '03': 54, '06': 44, '18': 109, '09': 45, '07': 34, '08': 48, '15': 116, '05': 46, '16': 108, '01': 60, '19': 110, '20': 80, '17': 100} \n",
      "\n"
     ]
    }
   ],
   "source": [
    "import datetime as dt\n",
    "countposts_hr = {} #store posts per hour\n",
    "countcom_hr = {} #store comments per hour\n",
    "date_format = \"%m/%d/%Y %H:%M\"\n",
    "for row in aposts:\n",
    "    dtime = row[6]\n",
    "#    comments are stored as strings, so we convert it to int\n",
    "    comhr = int(row[4])\n",
    "    totcom+= comhr\n",
    "#    parsing time according to the format stored and then extracting only hour\n",
    "    time = dt.datetime.strptime(dtime,date_format).strftime(\"%H\")\n",
    "    if time in countposts_hr:\n",
    "        countposts_hr[time] += 1\n",
    "    else:\n",
    "        countposts_hr[time] = 1\n",
    "        \n",
    "    if time in countcom_hr:\n",
    "        countcom_hr[time] += comhr\n",
    "    else:\n",
    "        countcom_hr[time] = comhr\n",
    "\n",
    "print (\"The number of comments per hour for AskHN posts: \\n\",countcom_hr,'\\n')\n",
    "print (\"The number of AskHN posts per hour : \\n\",countposts_hr,'\\n')"
   ]
  },
  {
   "cell_type": "markdown",
   "metadata": {},
   "source": [
    "Now that we have the comments and posts per hour, we can calculate the average comments per hour for AskHN posts."
   ]
  },
  {
   "cell_type": "code",
   "execution_count": 114,
   "metadata": {
    "collapsed": false
   },
   "outputs": [
    {
     "name": "stdout",
     "output_type": "stream",
     "text": [
      "[['21', 16], ['00', 8], ['23', 7], ['13', 14], ['14', 13], ['04', 7], ['11', 11], ['10', 13], ['12', 9], ['02', 23], ['22', 6], ['03', 7], ['06', 9], ['18', 13], ['09', 5], ['07', 7], ['08', 10], ['15', 38], ['05', 10], ['16', 16], ['01', 11], ['19', 10], ['20', 21], ['17', 11]]\n"
     ]
    }
   ],
   "source": [
    "avg= []\n",
    "for hr in countcom_hr:\n",
    "    # Append the hour and average comments to a list avg\n",
    "    avg.append([hr,int(countcom_hr[hr]/countposts_hr[hr])])\n",
    "print(avg)"
   ]
  },
  {
   "cell_type": "markdown",
   "metadata": {},
   "source": [
    "# Correcting and Sorting the List by Swapping the Hours and Average Comments"
   ]
  },
  {
   "cell_type": "code",
   "execution_count": 73,
   "metadata": {
    "collapsed": false
   },
   "outputs": [
    {
     "data": {
      "text/plain": [
       "[[38, '15'],\n",
       " [23, '02'],\n",
       " [21, '20'],\n",
       " [16, '21'],\n",
       " [16, '16'],\n",
       " [14, '13'],\n",
       " [13, '18'],\n",
       " [13, '14'],\n",
       " [13, '10'],\n",
       " [11, '17'],\n",
       " [11, '11'],\n",
       " [11, '01'],\n",
       " [10, '19'],\n",
       " [10, '08'],\n",
       " [10, '05'],\n",
       " [9, '12'],\n",
       " [9, '06'],\n",
       " [8, '00'],\n",
       " [7, '23'],\n",
       " [7, '07'],\n",
       " [7, '04'],\n",
       " [7, '03'],\n",
       " [6, '22'],\n",
       " [5, '09']]"
      ]
     },
     "execution_count": 73,
     "metadata": {},
     "output_type": "execute_result"
    }
   ],
   "source": [
    "#Swapping hours and average comments\n",
    "swapped = []\n",
    "for num in avg:\n",
    "    swapped.append([num[1],num[0]])\n",
    "#Sorting the list in descending order\n",
    "swapped=sorted(swapped,reverse = True)\n",
    "swapped"
   ]
  },
  {
   "cell_type": "markdown",
   "metadata": {},
   "source": [
    "We now calculate the top 5 hours with the highest comments on average."
   ]
  },
  {
   "cell_type": "code",
   "execution_count": 115,
   "metadata": {
    "collapsed": false
   },
   "outputs": [
    {
     "name": "stdout",
     "output_type": "stream",
     "text": [
      "Top 5 Hours with Highest comments on average for AskHN posts:\n",
      "15:00 has 38 comments on average\n",
      "02:00 has 23 comments on average\n",
      "20:00 has 21 comments on average\n",
      "21:00 has 16 comments on average\n",
      "16:00 has 16 comments on average\n"
     ]
    }
   ],
   "source": [
    "print(\"Top 5 Hours with Highest comments on average for AskHN posts:\")\n",
    "for avg,hr in swapped[:5]:\n",
    "    print(dt.datetime.strptime(hr,\"%H\").strftime(\"%H:%M\"),\"has\",avg,\"comments on average\")"
   ]
  },
  {
   "cell_type": "markdown",
   "metadata": {},
   "source": [
    "The hour that receives the most comments per post on average is 15:00 ES with 38 comments on average.\n",
    "According to the documentation, we see that this time is Eastern time which when converted to British Standard Time would be 5 hours ahead. \n",
    "Example: 15:00 would be 20:00 in BST"
   ]
  },
  {
   "cell_type": "markdown",
   "metadata": {},
   "source": [
    "# Determining the Average amount of points for ShowHN and AskHN Posts"
   ]
  },
  {
   "cell_type": "code",
   "execution_count": 123,
   "metadata": {
    "collapsed": false
   },
   "outputs": [
    {
     "name": "stdout",
     "output_type": "stream",
     "text": [
      "The average number of points for an AskHN post is : 15\n",
      "The average number of points for an ShowHN post is : 27\n"
     ]
    }
   ],
   "source": [
    "totp_show = 0 #Total points for ShowHN posts\n",
    "totp_ask = 0 #Total points for AskHN posts\n",
    "for row in aposts:\n",
    "    points = int(row[3])\n",
    "    totp_ask += points\n",
    "avgaskp = int(totp_ask/len(aposts))\n",
    "for row in sposts:\n",
    "    points = int(row[3])\n",
    "    totp_show += points\n",
    "avgshowp = int(totp_show/len(sposts))\n",
    "\n",
    "print(\"The average number of points for an AskHN post is :\",avgaskp)\n",
    "print(\"The average number of points for an ShowHN post is :\",avgshowp)    "
   ]
  },
  {
   "cell_type": "markdown",
   "metadata": {},
   "source": [
    "As we had assumed earlier, we see that in the case of points, a ShowHN post has 27 more points on average compared to an AskHN post.\n",
    "\n",
    "Hence we will continue with ShowHN posts in this case."
   ]
  },
  {
   "cell_type": "markdown",
   "metadata": {},
   "source": [
    "# Determining the average amount of ShowHN posts and points each hour"
   ]
  },
  {
   "cell_type": "markdown",
   "metadata": {},
   "source": [
    "Same as earlier, we now create frequency tables for ShowHN posts and points per hour"
   ]
  },
  {
   "cell_type": "code",
   "execution_count": 122,
   "metadata": {
    "collapsed": false
   },
   "outputs": [
    {
     "name": "stdout",
     "output_type": "stream",
     "text": [
      "The number of points per hour for ShowHN posts: \n",
      " {'21': 866, '00': 1173, '23': 1526, '13': 2438, '14': 2187, '04': 386, '15': 2228, '10': 681, '12': 2543, '02': 340, '22': 1856, '03': 679, '06': 375, '18': 2215, '09': 553, '07': 494, '08': 519, '11': 1480, '05': 104, '16': 2634, '01': 700, '19': 1702, '20': 1819, '17': 2521} \n",
      "\n",
      "The number of ShowHN posts per hour : \n",
      " {'21': 47, '00': 31, '23': 36, '13': 99, '14': 86, '04': 26, '15': 78, '10': 36, '12': 61, '02': 30, '22': 46, '03': 27, '06': 16, '18': 61, '09': 30, '07': 26, '08': 34, '11': 44, '05': 19, '16': 93, '01': 28, '19': 55, '20': 60, '17': 93} \n",
      "\n"
     ]
    }
   ],
   "source": [
    "import datetime as dt\n",
    "countposts_hr1 = {} #store posts per hour\n",
    "countp_hr = {} #store points per hour\n",
    "date_format = \"%m/%d/%Y %H:%M\"\n",
    "for row in sposts:\n",
    "    dtime = row[6]\n",
    "#    points are stored as strings, so we convert it to int\n",
    "    phr = int (row[3])\n",
    "#    parsing time according to the format and then extracting only hour\n",
    "    time1 = dt.datetime.strptime(dtime,date_format).strftime(\"%H\")\n",
    "    if time1 in countposts_hr1:\n",
    "        countposts_hr1[time1] += 1\n",
    "    else:\n",
    "        countposts_hr1[time1] = 1\n",
    "        \n",
    "    if time1 in countp_hr:\n",
    "        countp_hr[time1] += phr\n",
    "    else:\n",
    "        countp_hr[time1] = phr\n",
    "\n",
    "print (\"The number of points per hour for ShowHN posts: \\n\",countp_hr,'\\n')\n",
    "print (\"The number of ShowHN posts per hour : \\n\",countposts_hr1,'\\n')"
   ]
  },
  {
   "cell_type": "markdown",
   "metadata": {},
   "source": [
    "Now that we have the points and posts per hour, we can calculate the average points per hour for ShowHN posts."
   ]
  },
  {
   "cell_type": "code",
   "execution_count": 124,
   "metadata": {
    "collapsed": false
   },
   "outputs": [
    {
     "name": "stdout",
     "output_type": "stream",
     "text": [
      "[['21', 18], ['00', 37], ['23', 42], ['13', 24], ['14', 25], ['04', 14], ['15', 28], ['10', 18], ['12', 41], ['02', 11], ['22', 40], ['03', 25], ['06', 23], ['18', 36], ['09', 18], ['07', 19], ['08', 15], ['11', 33], ['05', 5], ['16', 28], ['01', 25], ['19', 30], ['20', 30], ['17', 27]]\n"
     ]
    }
   ],
   "source": [
    "avg1= []\n",
    "for hr in countp_hr:\n",
    "    #Calculating average points per hour and appending the same to a list avg1\n",
    "    avg1.append([hr,int(countp_hr[hr]/countposts_hr1[hr])])\n",
    "print(avg1)"
   ]
  },
  {
   "cell_type": "markdown",
   "metadata": {},
   "source": [
    "# Correcting and Sorting the List by Swapping the Hours and Average Points"
   ]
  },
  {
   "cell_type": "code",
   "execution_count": 125,
   "metadata": {
    "collapsed": false
   },
   "outputs": [
    {
     "data": {
      "text/plain": [
       "[[42, '23'],\n",
       " [41, '12'],\n",
       " [40, '22'],\n",
       " [37, '00'],\n",
       " [36, '18'],\n",
       " [33, '11'],\n",
       " [30, '20'],\n",
       " [30, '19'],\n",
       " [28, '16'],\n",
       " [28, '15'],\n",
       " [27, '17'],\n",
       " [25, '14'],\n",
       " [25, '03'],\n",
       " [25, '01'],\n",
       " [24, '13'],\n",
       " [23, '06'],\n",
       " [19, '07'],\n",
       " [18, '21'],\n",
       " [18, '10'],\n",
       " [18, '09'],\n",
       " [15, '08'],\n",
       " [14, '04'],\n",
       " [11, '02'],\n",
       " [5, '05']]"
      ]
     },
     "execution_count": 125,
     "metadata": {},
     "output_type": "execute_result"
    }
   ],
   "source": [
    "#Swapping hours and average points\n",
    "swapped1 = []\n",
    "for num in avg1:\n",
    "    swapped1.append([num[1],num[0]])\n",
    "#Sorting in descending order of points\n",
    "swapped1=sorted(swapped1,reverse = True)\n",
    "swapped1"
   ]
  },
  {
   "cell_type": "markdown",
   "metadata": {},
   "source": [
    "We now calculate the top 5 hours with the highest points on average."
   ]
  },
  {
   "cell_type": "code",
   "execution_count": 109,
   "metadata": {
    "collapsed": false
   },
   "outputs": [
    {
     "name": "stdout",
     "output_type": "stream",
     "text": [
      "Top 5 Hours with Highest points on average for ShowHN posts:\n",
      "23:00 has 42 points on average\n",
      "12:00 has 41 points on average\n",
      "22:00 has 40 points on average\n",
      "00:00 has 37 points on average\n",
      "18:00 has 36 points on average\n"
     ]
    }
   ],
   "source": [
    "print(\"Top 5 Hours with Highest points on average for ShowHN posts:\")\n",
    "for avg1,hr in swapped1[:5]:\n",
    "    print(dt.datetime.strptime(hr,\"%H\").strftime(\"%H:%M\"),\"has\",avg1,\"points on average\")"
   ]
  },
  {
   "cell_type": "markdown",
   "metadata": {},
   "source": [
    "From this we can conclude that the 23:00 EST ( 4:00 AM Next Day BST) is the best time to receive the highest points on average for a ShowHN type of post."
   ]
  },
  {
   "cell_type": "markdown",
   "metadata": {},
   "source": [
    "# Conclusion\n",
    "\n",
    "From our analysis,we can conclude the following:\n",
    "\n",
    "1. AskHN posts receive more comments than ShowHN posts.\n",
    "\n",
    "2. ShowHN posts receive more points than AskHN posts.\n",
    "\n",
    "3. In order to maximize the comments received, we should categorize the post as an AskHN type and post it at 15:00 (EST) or 20:00 (BST). However, it should be considered that our analysis did not consider random posts as well as posts without comments.\n",
    "\n",
    "4. In order to maximize the points received, we should categorize the post as a ShowHN type and post it at 23:00 (EST) or 4:00 next day BST. "
   ]
  }
 ],
 "metadata": {
  "kernelspec": {
   "display_name": "Python 3",
   "language": "python",
   "name": "python3"
  },
  "language_info": {
   "codemirror_mode": {
    "name": "ipython",
    "version": 3
   },
   "file_extension": ".py",
   "mimetype": "text/x-python",
   "name": "python",
   "nbconvert_exporter": "python",
   "pygments_lexer": "ipython3",
   "version": "3.4.3"
  }
 },
 "nbformat": 4,
 "nbformat_minor": 2
}
