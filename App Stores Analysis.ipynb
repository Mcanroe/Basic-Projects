{
 "cells": [
  {
   "cell_type": "markdown",
   "metadata": {},
   "source": [
    "# Analysing Free Profitable iOS and Android apps \n",
    "\n",
    "In this project, we are analysing a set of iOS and android apps that are free to download and install having the only source of revenue as in-app ads or purchases.\n",
    "\n",
    "The goal here is to analyse patterns in data that make the app more engaging and incentivize continuous user engagement with the app, thus increasing revenue.\n",
    "\n"
   ]
  },
  {
   "cell_type": "markdown",
   "metadata": {},
   "source": [
    "The datasets used in this project are the following : \n",
    "\n",
    "\n",
    "[Google Play Store Apps](https://www.kaggle.com/lava18/google-play-store-apps/home)\n",
    "\n",
    "Credits : Lavanya Gupta\n",
    "\n",
    "[iOS App Store](https://www.kaggle.com/ramamet4/app-store-apple-data-set-10k-apps/home)\n",
    "\n",
    "Credits : Ramanathan"
   ]
  },
  {
   "cell_type": "markdown",
   "metadata": {},
   "source": [
    "Here are the column descriptions for both the datasets : \n",
    "\n",
    "Google Play Store Apps:\n",
    "\n",
    "| Column Name    \t| Column Description                                                                                                                            \t|\n",
    "|----------------\t|-----------------------------------------------------------------------------------------------------------------------------------------------\t|\n",
    "| App            \t| Application name                                                                                                                              \t|\n",
    "| Category       \t| Category the app belongs to                                                                                                                   \t|\n",
    "| Rating         \t| Overall user rating of the app (as when scraped)                                                                                              \t|\n",
    "| Reviews        \t| Number of user reviews for the app (as when scraped)                                                                                          \t|\n",
    "| Size           \t| Size of the app (as when scraped)                                                                                                             \t|\n",
    "| Installs       \t| Number of user downloads/installs for the app (as when scraped)                                                                               \t|\n",
    "| Type           \t| Paid or Free                                                                                                                                  \t|\n",
    "| Price          \t| Price of the app (as when scraped)                                                                                                            \t|\n",
    "| Content Rating \t| Age group the app is targeted at - Children / Mature 21+ / Adult                                                                              \t|\n",
    "| Genres         \t| An app can belong to multiple genres (apart from its main category). For eg, a musical family game will belong to Music, Game, Family genres. \t|\n",
    "| Last Updated   \t| Date when the app was last updated on Play Store (as when scraped)                                                                            \t|\n",
    "| Current Ver    \t| Current version of the app available on Play Store (as when scraped)                                                                          \t|\n",
    "| Android Ver    \t| Min required Android version (as when scraped)                                                                                                \t|                       \n",
    "\n",
    "iOS App Store:\n",
    "\n",
    "\n",
    "| Column Name        | Description                                     |\n",
    "|--------------------|-------------------------------------------------|\n",
    "|        \"id\"        | App ID                                          |\n",
    "| \"track_name\"       | App Name                                        |\n",
    "| \"size_bytes\"       | Size (in Bytes)                                 |\n",
    "| \"currency\"         | Currency Type                                   |\n",
    "| \"price\"            | Price amount                                    |\n",
    "| \"rating_count_tot\" | User Rating counts (for all version)            |\n",
    "| \"rating_count_ver\" | User Rating counts (for current version)        |\n",
    "| \"user_rating\"      | Average User Rating value (for all version)     |\n",
    "| \"user_rating_ver\"  | Average User Rating value (for current version) |\n",
    "| \"ver\"              | Latest version code                             |\n",
    "| \"cont_rating\"      | Content Rating                                  |\n",
    "| \"prime_genre\"      | Primary Genre                                   |\n",
    "| \"sup_devices.num\"  | Number of supporting devices                    |\n",
    "| \"ipadSc_urls.num\"  | Number of screenshots showed for display        |\n",
    "| \"lang.num\"         | Number of supported languages                   |\n",
    "| \"vpp_lic\"          | Vpp Device Based Licensing Enabled              |\n",
    "\n",
    "For our study , the primary columns that we will be focusing on will be the price of the application , total and average user rating and the genre. "
   ]
  },
  {
   "cell_type": "code",
   "execution_count": 6,
   "metadata": {
    "scrolled": true
   },
   "outputs": [
    {
     "name": "stdout",
     "output_type": "stream",
     "text": [
      "iOS Store Apps\n",
      "['1', '281656475', 'PAC-MAN Premium', '100788224', 'USD', '3.99', '21292', '26', '4', '4.5', '6.3.5', '4+', 'Games', '38', '5', '10', '1']\n",
      "\n",
      "\n",
      "['2', '281796108', 'Evernote - stay organized', '158578688', 'USD', '0', '161065', '26', '4', '3.5', '8.2.2', '4+', 'Productivity', '37', '5', '23', '1']\n",
      "\n",
      "\n",
      "['3', '281940292', 'WeatherBug - Local Weather, Radar, Maps, Alerts', '100524032', 'USD', '0', '188583', '2822', '3.5', '4.5', '5.0.0', '4+', 'Weather', '37', '5', '3', '1']\n",
      "\n",
      "\n",
      "Number of rows: 7197\n",
      "Number of columns: 17\n",
      " \n",
      " Play Store Apps\n",
      "['Photo Editor & Candy Camera & Grid & ScrapBook', 'ART_AND_DESIGN', '4.1', '159', '19M', '10,000+', 'Free', '0', 'Everyone', 'Art & Design', 'January 7, 2018', '1.0.0', '4.0.3 and up']\n",
      "\n",
      "\n",
      "['Coloring book moana', 'ART_AND_DESIGN', '3.9', '967', '14M', '500,000+', 'Free', '0', 'Everyone', 'Art & Design;Pretend Play', 'January 15, 2018', '2.0.0', '4.0.3 and up']\n",
      "\n",
      "\n",
      "['U Launcher Lite – FREE Live Cool Themes, Hide Apps', 'ART_AND_DESIGN', '4.7', '87510', '8.7M', '5,000,000+', 'Free', '0', 'Everyone', 'Art & Design', 'August 1, 2018', '1.2.4', '4.0.3 and up']\n",
      "\n",
      "\n",
      "Number of rows: 10841\n",
      "Number of columns: 13\n"
     ]
    }
   ],
   "source": [
    "apple = open(\"AppleStore.csv\",encoding=\"utf8\")\n",
    "google = open(\"googleplaystore.csv\",encoding=\"utf8\")\n",
    "from csv import reader\n",
    "readfile1 = reader(apple)\n",
    "readfile2 = reader(google)\n",
    "apple_data = list(readfile1)\n",
    "google_data = list(readfile2)\n",
    "\n",
    "#Storing the header containing the columns names in a separate list\n",
    "apple_header = apple_data[0]\n",
    "google_header = google_data[0]\n",
    "\n",
    "# Assigning only the data values to the lists as the header has been separated\n",
    "apple_data = apple_data[1:]\n",
    "google_data = google_data[1:]\n",
    "print('iOS Store Apps')\n",
    "explore_data(apple_data,0,3,True)\n",
    "print(' \\n Play Store Apps')\n",
    "explore_data(google_data,0,3,True)\n",
    "\n"
   ]
  },
  {
   "cell_type": "markdown",
   "metadata": {},
   "source": [
    "Here we use a function **explore_data** to obtain a subset of apps and their information."
   ]
  },
  {
   "cell_type": "code",
   "execution_count": 5,
   "metadata": {},
   "outputs": [],
   "source": [
    "def explore_data(dataset, start, end, rows_and_columns=False):\n",
    "    dataset_slice = dataset[start:end]    \n",
    "    for row in dataset_slice:\n",
    "        print(row)\n",
    "        print('\\n') # adding new line for a cleaner output\n",
    "\n",
    "    if rows_and_columns:\n",
    "        print('Number of rows:', len(dataset))\n",
    "        print('Number of columns:', len(dataset[0]))"
   ]
  },
  {
   "cell_type": "markdown",
   "metadata": {},
   "source": [
    "# Checking for incorrect data or fields\n",
    "\n",
    "Upon checking the discussion section of the [google play store data set](https://www.kaggle.com/lava18/google-play-store-apps/discussion) , we see that the application against the row 10472 has a rating of 19 which is not possible for a play store app.\n",
    "\n",
    "This is because the maximum rating for a google play store app can be 5.\n",
    "\n",
    "`print (google_data[10472])`\n",
    "\n",
    "\n",
    "`['Life Made WI-Fi Touchscreen Photo Frame', '1.9', '19', '3.0M', '1,000+', 'Free', '0', 'Everyone', ' ', 'February 11, 2018', '1.0.19', '4.0 and up']`\n",
    "\n",
    "\n",
    "Accordingly, we delete this row."
   ]
  },
  {
   "cell_type": "code",
   "execution_count": 7,
   "metadata": {
    "scrolled": true
   },
   "outputs": [],
   "source": [
    "#del google_data[10472] -> Commented as we do not want to accidentally run this again"
   ]
  },
  {
   "cell_type": "markdown",
   "metadata": {},
   "source": [
    "Upon inspecting the deleted row further, we see that the error has creeped in due to the missing category value\n",
    "\n",
    "Upon checking the app [Life Made WI-Fi Touchscreen Photo Frame](https://play.google.com/store/apps/details?id=com.lifemade.internetPhotoframe) , we see that the category is listed as :\n",
    ">  Lifestyle\n",
    "\n",
    "Since we now have this information , we can add a new record to the table with correct category value while maintaining the previous data."
   ]
  },
  {
   "cell_type": "code",
   "execution_count": 11,
   "metadata": {},
   "outputs": [
    {
     "name": "stdout",
     "output_type": "stream",
     "text": [
      "['Life Made WI-Fi Touchscreen Photo Frame', 'LIFESTYLE', '1.9', '19', '3.0M', '1,000+', 'Free', '0', 'Everyone', 'Lifestyle', 'February 11, 2018', '1.0.19', '4.0 and up']\n"
     ]
    }
   ],
   "source": [
    "#Appending this new row\n",
    "life = ['Life Made WI-Fi Touchscreen Photo Frame', 'LIFESTYLE', '1.9', '19', '3.0M', '1,000+', 'Free', '0', 'Everyone', 'Lifestyle', 'February 11, 2018', '1.0.19', '4.0 and up']\n",
    "#google_data.append(life) #Commenting so that the record isnt added again\n",
    "print (google_data[-1])\n"
   ]
  },
  {
   "cell_type": "markdown",
   "metadata": {},
   "source": [
    "Next we check for duplicates in our datasets:"
   ]
  },
  {
   "cell_type": "code",
   "execution_count": 12,
   "metadata": {
    "scrolled": true
   },
   "outputs": [
    {
     "name": "stdout",
     "output_type": "stream",
     "text": [
      "Number of duplicate play store apps : 1181\n",
      "\n",
      " Examples of duplicate  play store apps : ['Quick PDF Scanner + OCR FREE', 'Box', 'Google My Business', 'ZOOM Cloud Meetings', 'join.me - Simple Meetings']\n",
      "\n",
      "\n",
      "Number of duplicate iOS store apps : 0\n",
      "\n",
      " Examples of duplicate iOS store apps : []\n",
      "\n",
      "\n"
     ]
    }
   ],
   "source": [
    "# Checking for duplicates in play store apps\n",
    "dup_android = [] #duplicate android apps\n",
    "uni_android = [] #unique android apps\n",
    "for app in google_data:\n",
    "    name=app[0]\n",
    "    if name in uni_android:\n",
    "          dup_android.append(name)\n",
    "    else:\n",
    "          uni_android.append(name)\n",
    "print('Number of duplicate play store apps :', len(dup_android))\n",
    "print('\\n Examples of duplicate  play store apps :',dup_android[:5])\n",
    "print ('\\n')\n",
    "\n",
    "#Checking for duplicates in iOS app store\n",
    "dup_ios = [] #Duplicate iOS apps\n",
    "uni_ios = [] #Unique iOS apps\n",
    "for apps in apple_data:\n",
    "     names=apps[1]\n",
    "     if names in uni_ios:\n",
    "          dup_ios.append(names)\n",
    "     else:\n",
    "          uni_ios.append(names)\n",
    "print('Number of duplicate iOS store apps :',len(dup_ios))\n",
    "print('\\n Examples of duplicate iOS store apps :',dup_ios[:5])\n",
    "print('\\n')\n",
    "\n",
    "#"
   ]
  },
  {
   "cell_type": "code",
   "execution_count": 18,
   "metadata": {},
   "outputs": [
    {
     "name": "stdout",
     "output_type": "stream",
     "text": [
      "Some Duplicate play store apps \n",
      "\n",
      "Quick PDF Scanner + OCR FREE\n",
      "Box\n",
      "Google My Business\n",
      "ZOOM Cloud Meetings\n",
      "join.me - Simple Meetings\n",
      "Box\n",
      "Zenefits\n"
     ]
    }
   ],
   "source": [
    "#Checking the duplicate Play store apps\n",
    "print ('Some Duplicate play store apps \\n')\n",
    "for name in dup_android[:7]:\n",
    "    print(name)                     "
   ]
  },
  {
   "cell_type": "markdown",
   "metadata": {},
   "source": [
    "Upon checking the duplicate play store apps, we see that these apps have the same values in size,genre,cost and the last updated date.\n",
    "\n",
    "We can therefore conclude that these apps are duplicate and hence will have to be cleaned."
   ]
  },
  {
   "cell_type": "code",
   "execution_count": 12,
   "metadata": {},
   "outputs": [
    {
     "name": "stdout",
     "output_type": "stream",
     "text": [
      "\n",
      " \n",
      " Duplicate iOS apps \n",
      "\n",
      "['1173990889', 'Mannequin Challenge', '109705216', 'USD', '0.0', '668', '87', '3.0', '3.0', '1.4', '9+', 'Games', '37', '4', '1', '1']\n",
      "['952877179', 'VR Roller Coaster', '169523200', 'USD', '0.0', '107', '102', '3.5', '3.5', '2.0.0', '4+', 'Games', '37', '5', '1', '1']\n",
      "['1178454060', 'Mannequin Challenge', '59572224', 'USD', '0.0', '105', '58', '4.0', '4.5', '1.0.1', '4+', 'Games', '38', '5', '1', '1']\n",
      "['1089824278', 'VR Roller Coaster', '240964608', 'USD', '0.0', '67', '44', '3.5', '4.0', '0.81', '4+', 'Games', '38', '0', '1', '1']\n"
     ]
    }
   ],
   "source": [
    "print ('\\n \\n Duplicate iOS apps \\n')\n",
    "#Checking the duplicate iOS store apps\n",
    "for apps in apple_data:\n",
    "    if (apps[1] == 'Mannequin Challenge' or apps[1]=='VR Roller Coaster'):\n",
    "        print(apps)"
   ]
  },
  {
   "cell_type": "markdown",
   "metadata": {},
   "source": [
    "Upon checking the duplicate iOS store apps, we see that these apps have significantly different sizes, ratings and version numbers.\n",
    " \n",
    "We can therefore conclude that these apps are not the same but merely having the same name."
   ]
  },
  {
   "cell_type": "markdown",
   "metadata": {},
   "source": [
    "# Removing the duplicate data entries\n",
    "\n",
    "We will now remove the duplicates by creating a dictionary that has the key as the unique app name and the value as the highest number of reviews of that app.\n",
    "\n",
    "The reason we do this is because the only difference among the duplicate play store apps is the reviews."
   ]
  },
  {
   "cell_type": "code",
   "execution_count": 13,
   "metadata": {},
   "outputs": [
    {
     "name": "stdout",
     "output_type": "stream",
     "text": [
      "9660\n"
     ]
    }
   ],
   "source": [
    "reviews_max = {}\n",
    "for app in google_data:\n",
    "    name = app[0]\n",
    "    n_reviews = float(app[3])\n",
    "    if name in reviews_max and reviews_max[name] < n_reviews:\n",
    "        reviews_max[name] = n_reviews\n",
    "    if name not in reviews_max:\n",
    "            reviews_max[name] = n_reviews\n",
    "print(len(reviews_max))\n",
    "\n",
    "        "
   ]
  },
  {
   "cell_type": "markdown",
   "metadata": {},
   "source": [
    "We know that there were 1181 duplicate apps , hence the difference between the total apps in the entire dataset and 1181 should be the same as our obtained dictionary length."
   ]
  },
  {
   "cell_type": "code",
   "execution_count": 14,
   "metadata": {
    "scrolled": true
   },
   "outputs": [
    {
     "name": "stdout",
     "output_type": "stream",
     "text": [
      "Expected length: 9660\n",
      "Actual length: 9660\n"
     ]
    }
   ],
   "source": [
    "print ( 'Expected length:' , len(google_data) - 1181)\n",
    "print ( 'Actual length:' , len(reviews_max))"
   ]
  },
  {
   "cell_type": "markdown",
   "metadata": {},
   "source": [
    "We now create two lists ,one to hold our new cleaned data and other to hold the duplicate app names.\n",
    "\n",
    "Once we have created these, we loop over the play store dataset and for every iteration :\n",
    "1. We assign the app name and ratings value to our respective variables.\n",
    "2. We add the current row to the clean data list if the reviews for that list is the maximum value as checked with reviews_max list. \n",
    "3. Apart from this, we also check the list with the duplicate app names to ensure that we do not add any duplicate apps that have the same highest number of reviews.\n",
    "4. We then print the length of the clean android app list and ensure that it is 9660"
   ]
  },
  {
   "cell_type": "code",
   "execution_count": 15,
   "metadata": {},
   "outputs": [
    {
     "name": "stdout",
     "output_type": "stream",
     "text": [
      "9660\n"
     ]
    }
   ],
   "source": [
    "android_clean = []\n",
    "already_added = []\n",
    "\n",
    "for app in google_data:\n",
    "    name = app[0]\n",
    "    n_reviews = float(app[3])\n",
    "    \n",
    "    if (reviews_max[name] == n_reviews) and (name not in already_added):\n",
    "        android_clean.append(app)\n",
    "        already_added.append(name) \n",
    "print(len(android_clean))\n",
    "        \n",
    "        \n",
    "        "
   ]
  },
  {
   "cell_type": "markdown",
   "metadata": {
    "collapsed": true
   },
   "source": [
    "# Removing Non-English apps\n",
    "\n",
    "In this study , we are looking for apps directed towards an English speaking audience.\n",
    "\n",
    "As such non english apps will have to be removed from the datasets so that our results stay correct.\n",
    "\n",
    "The following function checks each character using the [ord()](https://docs.python.org/2/library/functions.html#ord) built in function to obtain the numerical value of the character and ensure that the value is below 127 which confirms that the characted belongs to a set of common English characters.\n",
    "\n",
    "Here is the [ASCII table](http://www.asciitable.com/index/asciifull.gif) for reference\n",
    "\n"
   ]
  },
  {
   "cell_type": "code",
   "execution_count": 16,
   "metadata": {},
   "outputs": [],
   "source": [
    "def checkeng(strings):\n",
    "    for ch in strings:\n",
    "        if ord(ch) > 127:\n",
    "            return False\n",
    "    return True\n"
   ]
  },
  {
   "cell_type": "code",
   "execution_count": 17,
   "metadata": {},
   "outputs": [
    {
     "name": "stdout",
     "output_type": "stream",
     "text": [
      "True\n",
      "False\n",
      "False\n",
      "False\n"
     ]
    }
   ],
   "source": [
    "print(checkeng('Instagram'))\n",
    "print(checkeng('爱奇艺PPS -《欢乐颂2》电视剧热播'))\n",
    "print(checkeng('Docs To Go™ Free Office Suite'))\n",
    "print(checkeng('Instachat 😜'))"
   ]
  },
  {
   "cell_type": "markdown",
   "metadata": {},
   "source": [
    "Here we see that even though the apps \"Docs To Go™ Free Office Suite\" and \"Instachat 😜\" are English apps, due to the ™ and emoji character being greater than our defined limit , 127 (i.e our defined range) , these apps are classified as Non-English apps. \n",
    "\n",
    "In order to minimize this data loss, what we can do is alter the function to only return an application as Non-English if it has 3 or more characters that are greater than the limit 127 (i.e. the set of English language characters).\n",
    "\n",
    "While this function is not perfect, it will be a lot more effective and efficient than our current one.\n",
    "\n",
    "The new function will be as follows: "
   ]
  },
  {
   "cell_type": "code",
   "execution_count": 18,
   "metadata": {},
   "outputs": [
    {
     "name": "stdout",
     "output_type": "stream",
     "text": [
      "True\n",
      "False\n",
      "True\n",
      "True\n"
     ]
    }
   ],
   "source": [
    "def checkengnew(strings):\n",
    "    count = 0 #to count the non ascii characters\n",
    "    for ch in strings:\n",
    "        if ord(ch) > 127:\n",
    "            count+= 1\n",
    "            if(count>3):\n",
    "                return False\n",
    "    return True\n",
    "print(checkengnew('Instagram'))\n",
    "print(checkengnew('爱奇艺PPS -《欢乐颂2》电视剧热播'))\n",
    "print(checkengnew('Docs To Go™ Free Office Suite'))\n",
    "print(checkengnew('Instachat 😜'))"
   ]
  },
  {
   "cell_type": "markdown",
   "metadata": {},
   "source": [
    "Now that this function works, we will apply this to both our data sets in order to filter out the Non-English apps"
   ]
  },
  {
   "cell_type": "code",
   "execution_count": 19,
   "metadata": {},
   "outputs": [
    {
     "name": "stdout",
     "output_type": "stream",
     "text": [
      "The number of English Android apps are : 9615\n",
      "The number of English iOS apps are : 6183\n"
     ]
    }
   ],
   "source": [
    "andeng = [] #android english apps\n",
    "ioseng = [] #ios english apps\n",
    "for app in android_clean:\n",
    "    name = app[0]\n",
    "    ch1=checkengnew(name)\n",
    "    if(ch1==True):\n",
    "        andeng.append(app)\n",
    "print (\"The number of English Android apps are :\",len(andeng))\n",
    "for app in apple_data:\n",
    "    name1 = app[1]\n",
    "    ch1=checkengnew(name1)\n",
    "    if(ch1==True):\n",
    "        ioseng.append(app)\n",
    "print (\"The number of English iOS apps are :\",len(ioseng))"
   ]
  },
  {
   "cell_type": "markdown",
   "metadata": {},
   "source": [
    "# Removing Paid Apps\n",
    "\n",
    "As mentioned in the beginning , we are only looking to analyse free apps with their only source of revenue as in-app purchases or ads. \n",
    "\n",
    "We do this in the below function:"
   ]
  },
  {
   "cell_type": "code",
   "execution_count": 20,
   "metadata": {},
   "outputs": [
    {
     "name": "stdout",
     "output_type": "stream",
     "text": [
      "Free English Android apps: \n",
      "\n",
      "['Photo Editor & Candy Camera & Grid & ScrapBook', 'ART_AND_DESIGN', '4.1', '159', '19M', '10,000+', 'Free', '0', 'Everyone', 'Art & Design', 'January 7, 2018', '1.0.0', '4.0.3 and up']\n",
      "\n",
      "\n",
      "['U Launcher Lite – FREE Live Cool Themes, Hide Apps', 'ART_AND_DESIGN', '4.7', '87510', '8.7M', '5,000,000+', 'Free', '0', 'Everyone', 'Art & Design', 'August 1, 2018', '1.2.4', '4.0.3 and up']\n",
      "\n",
      "\n",
      "['Sketch - Draw & Paint', 'ART_AND_DESIGN', '4.5', '215644', '25M', '50,000,000+', 'Free', '0', 'Teen', 'Art & Design', 'June 8, 2018', 'Varies with device', '4.2 and up']\n",
      "\n",
      "\n",
      "['Pixel Draw - Number Art Coloring Book', 'ART_AND_DESIGN', '4.3', '967', '2.8M', '100,000+', 'Free', '0', 'Everyone', 'Art & Design;Creativity', 'June 20, 2018', '1.1', '4.4 and up']\n",
      "\n",
      "\n",
      "['Paper flowers instructions', 'ART_AND_DESIGN', '4.4', '167', '5.6M', '50,000+', 'Free', '0', 'Everyone', 'Art & Design', 'March 26, 2017', '1.0', '2.3 and up']\n",
      "\n",
      "\n",
      "Number of rows: 8865\n",
      "Number of columns: 13\n",
      "\n",
      " \n",
      " Free iOS Apps : \n",
      "\n",
      "['284882215', 'Facebook', '389879808', 'USD', '0.0', '2974676', '212', '3.5', '3.5', '95.0', '4+', 'Social Networking', '37', '1', '29', '1']\n",
      "\n",
      "\n",
      "['389801252', 'Instagram', '113954816', 'USD', '0.0', '2161558', '1289', '4.5', '4.0', '10.23', '12+', 'Photo & Video', '37', '0', '29', '1']\n",
      "\n",
      "\n",
      "['529479190', 'Clash of Clans', '116476928', 'USD', '0.0', '2130805', '579', '4.5', '4.5', '9.24.12', '9+', 'Games', '38', '5', '18', '1']\n",
      "\n",
      "\n",
      "['420009108', 'Temple Run', '65921024', 'USD', '0.0', '1724546', '3842', '4.5', '4.0', '1.6.2', '9+', 'Games', '40', '5', '1', '1']\n",
      "\n",
      "\n",
      "['284035177', 'Pandora - Music & Radio', '130242560', 'USD', '0.0', '1126879', '3594', '4.0', '4.5', '8.4.1', '12+', 'Music', '37', '4', '1', '1']\n",
      "\n",
      "\n",
      "Number of rows: 3222\n",
      "Number of columns: 16\n"
     ]
    }
   ],
   "source": [
    "#Separating the paid android apps\n",
    "andfinal = []\n",
    "print('Free English Android apps: \\n')\n",
    "for app in andeng: \n",
    "    price = app[7]\n",
    "    if price == '0':\n",
    "       andfinal.append(app) \n",
    "explore_data(andfinal,0,5,True)\n",
    "print('\\n \\n Free iOS Apps : \\n')\n",
    "#Separating the paid iOS apps\n",
    "iosfinal=[]\n",
    "for app in ioseng:\n",
    "    price = app[4]\n",
    "    if price == '0.0':\n",
    "        iosfinal.append(app)\n",
    "explore_data(iosfinal,0,5,True)\n",
    "        \n",
    "        "
   ]
  },
  {
   "cell_type": "markdown",
   "metadata": {},
   "source": [
    "# Determining the most common and popular apps\n",
    "\n",
    "As mentioned in the introduction, we are looking forward to analysing patterns and app profiles that work well on both Google Play and the App Store.\n",
    "\n",
    "For instance, a profile that works well for both markers might be a productivity app that makes use of elements that are addictive, fun and promote daily use.\n",
    "\n",
    "Upon inspecting the datasets, we can infer the following:\n",
    "\n",
    "For the Google play store dataset, we can use the columns : \n",
    "1. Category\n",
    "2. Installs\n",
    "3. Genres\n",
    "\n",
    "For the iOS app store dataset, we can use the columns : \n",
    "1. Rating count total\n",
    "2. Prime genre\n",
    "\n",
    "The function below takes in a dataset and index for the column and gives the frequency table in percentages for it."
   ]
  },
  {
   "cell_type": "code",
   "execution_count": 21,
   "metadata": {
    "collapsed": true
   },
   "outputs": [],
   "source": [
    "def freq_table(dataset,index):\n",
    "    dicts = {}\n",
    "    tot = 0\n",
    "    for row in dataset:\n",
    "        tot +=1\n",
    "        ele = row[index]\n",
    "        if ele in dicts:\n",
    "            dicts[ele]+=1\n",
    "        else:\n",
    "            dicts[ele]=1\n",
    "    dictperc = {}\n",
    "    for key in dicts:\n",
    "        percentage = (dicts[key]/tot) * 100\n",
    "        dictperc[key] = percentage\n",
    "    return dictperc"
   ]
  },
  {
   "cell_type": "markdown",
   "metadata": {},
   "source": [
    "The below function takes in a dataset and generates a frequency table using the above function.\n",
    "\n",
    "It then converts the frequency table into a tuple so that it can be easily sorted."
   ]
  },
  {
   "cell_type": "code",
   "execution_count": 22,
   "metadata": {
    "collapsed": true
   },
   "outputs": [],
   "source": [
    "def display_table(dataset, index):\n",
    "    table = freq_table(dataset, index)\n",
    "    table_display = []\n",
    "    for key in table:\n",
    "        key_val_as_tuple = (table[key], key)\n",
    "        table_display.append(key_val_as_tuple)\n",
    "\n",
    "    table_sorted = sorted(table_display, reverse = True)\n",
    "    for entry in table_sorted:\n",
    "        print(entry[1], ':', entry[0])"
   ]
  },
  {
   "cell_type": "markdown",
   "metadata": {},
   "source": [
    "## Analysing free English Play Store apps :"
   ]
  },
  {
   "cell_type": "code",
   "execution_count": 23,
   "metadata": {},
   "outputs": [
    {
     "name": "stdout",
     "output_type": "stream",
     "text": [
      "Sorted by category in descending order (%) \n",
      " \n",
      "\n",
      "FAMILY : 18.905809362662154\n",
      "GAME : 9.723632261703328\n",
      "TOOLS : 8.460236886632826\n",
      "BUSINESS : 4.591088550479413\n",
      "LIFESTYLE : 3.914269599548787\n",
      "PRODUCTIVITY : 3.8917089678511\n",
      "FINANCE : 3.699943598420756\n",
      "MEDICAL : 3.5307388606880994\n",
      "SPORTS : 3.395375070501974\n",
      "PERSONALIZATION : 3.3164128595600673\n",
      "COMMUNICATION : 3.2374506486181613\n",
      "HEALTH_AND_FITNESS : 3.0795262267343486\n",
      "PHOTOGRAPHY : 2.9441624365482233\n",
      "NEWS_AND_MAGAZINES : 2.7975183305132543\n",
      "SOCIAL : 2.662154540327129\n",
      "TRAVEL_AND_LOCAL : 2.33502538071066\n",
      "SHOPPING : 2.2447828539199097\n",
      "BOOKS_AND_REFERENCE : 2.143260011280316\n",
      "DATING : 1.8612521150592216\n",
      "VIDEO_PLAYERS : 1.793570219966159\n",
      "MAPS_AND_NAVIGATION : 1.3987591652566271\n",
      "FOOD_AND_DRINK : 1.2408347433728144\n",
      "EDUCATION : 1.161872532430908\n",
      "ENTERTAINMENT : 0.9588268471517203\n",
      "LIBRARIES_AND_DEMO : 0.9362662154540328\n",
      "AUTO_AND_VEHICLES : 0.924985899605189\n",
      "HOUSE_AND_HOME : 0.8234630569655951\n",
      "WEATHER : 0.8009024252679076\n",
      "EVENTS : 0.7106598984771574\n",
      "PARENTING : 0.6542583192329385\n",
      "ART_AND_DESIGN : 0.6429780033840948\n",
      "COMICS : 0.6204173716864072\n",
      "BEAUTY : 0.5978567399887197\n",
      " \n",
      " \n",
      "Sorted by genre in descending order (%) \n",
      " \n",
      "\n",
      "Tools : 8.44895657078398\n",
      "Entertainment : 6.068809926677947\n",
      "Education : 5.346869712351946\n",
      "Business : 4.591088550479413\n",
      "Lifestyle : 3.902989283699944\n",
      "Productivity : 3.8917089678511\n",
      "Finance : 3.699943598420756\n",
      "Medical : 3.5307388606880994\n",
      "Sports : 3.4630569655950363\n",
      "Personalization : 3.3164128595600673\n",
      "Communication : 3.2374506486181613\n",
      "Action : 3.102086858432036\n",
      "Health & Fitness : 3.0795262267343486\n",
      "Photography : 2.9441624365482233\n",
      "News & Magazines : 2.7975183305132543\n",
      "Social : 2.662154540327129\n",
      "Travel & Local : 2.323745064861816\n",
      "Shopping : 2.2447828539199097\n",
      "Books & Reference : 2.143260011280316\n",
      "Simulation : 2.0417371686407217\n",
      "Dating : 1.8612521150592216\n",
      "Arcade : 1.849971799210378\n",
      "Video Players & Editors : 1.7710095882684715\n",
      "Casual : 1.7597292724196276\n",
      "Maps & Navigation : 1.3987591652566271\n",
      "Food & Drink : 1.2408347433728144\n",
      "Puzzle : 1.1280315848843767\n",
      "Racing : 0.9926677946982515\n",
      "Role Playing : 0.9362662154540328\n",
      "Libraries & Demo : 0.9362662154540328\n",
      "Auto & Vehicles : 0.924985899605189\n",
      "Strategy : 0.9137055837563453\n",
      "House & Home : 0.8234630569655951\n",
      "Weather : 0.8009024252679076\n",
      "Events : 0.7106598984771574\n",
      "Adventure : 0.676818950930626\n",
      "Comics : 0.6091370558375634\n",
      "Beauty : 0.5978567399887197\n",
      "Art & Design : 0.5978567399887197\n",
      "Parenting : 0.49633389734912575\n",
      "Card : 0.4512126339537508\n",
      "Casino : 0.42865200225606315\n",
      "Trivia : 0.4173716864072194\n",
      "Educational;Education : 0.39481105470953193\n",
      "Board : 0.3835307388606881\n",
      "Educational : 0.3722504230118443\n",
      "Education;Education : 0.338409475465313\n",
      "Word : 0.25944726452340666\n",
      "Casual;Pretend Play : 0.23688663282571912\n",
      "Music : 0.20304568527918782\n",
      "Racing;Action & Adventure : 0.1692047377326565\n",
      "Puzzle;Brain Games : 0.1692047377326565\n",
      "Entertainment;Music & Video : 0.1692047377326565\n",
      "Casual;Brain Games : 0.1353637901861252\n",
      "Casual;Action & Adventure : 0.1353637901861252\n",
      "Arcade;Action & Adventure : 0.12408347433728144\n",
      "Action;Action & Adventure : 0.10152284263959391\n",
      "Educational;Pretend Play : 0.09024252679075014\n",
      "Simulation;Action & Adventure : 0.07896221094190638\n",
      "Parenting;Education : 0.07896221094190638\n",
      "Entertainment;Brain Games : 0.07896221094190638\n",
      "Board;Brain Games : 0.07896221094190638\n",
      "Parenting;Music & Video : 0.0676818950930626\n",
      "Educational;Brain Games : 0.0676818950930626\n",
      "Casual;Creativity : 0.0676818950930626\n",
      "Art & Design;Creativity : 0.0676818950930626\n",
      "Education;Pretend Play : 0.05640157924421885\n",
      "Role Playing;Pretend Play : 0.04512126339537507\n",
      "Education;Creativity : 0.04512126339537507\n",
      "Role Playing;Action & Adventure : 0.0338409475465313\n",
      "Puzzle;Action & Adventure : 0.0338409475465313\n",
      "Entertainment;Creativity : 0.0338409475465313\n",
      "Entertainment;Action & Adventure : 0.0338409475465313\n",
      "Educational;Creativity : 0.0338409475465313\n",
      "Educational;Action & Adventure : 0.0338409475465313\n",
      "Education;Music & Video : 0.0338409475465313\n",
      "Education;Brain Games : 0.0338409475465313\n",
      "Education;Action & Adventure : 0.0338409475465313\n",
      "Adventure;Action & Adventure : 0.0338409475465313\n",
      "Video Players & Editors;Music & Video : 0.022560631697687534\n",
      "Sports;Action & Adventure : 0.022560631697687534\n",
      "Simulation;Pretend Play : 0.022560631697687534\n",
      "Puzzle;Creativity : 0.022560631697687534\n",
      "Music;Music & Video : 0.022560631697687534\n",
      "Entertainment;Pretend Play : 0.022560631697687534\n",
      "Casual;Education : 0.022560631697687534\n",
      "Board;Action & Adventure : 0.022560631697687534\n",
      "Video Players & Editors;Creativity : 0.011280315848843767\n",
      "Trivia;Education : 0.011280315848843767\n",
      "Travel & Local;Action & Adventure : 0.011280315848843767\n",
      "Tools;Education : 0.011280315848843767\n",
      "Strategy;Education : 0.011280315848843767\n",
      "Strategy;Creativity : 0.011280315848843767\n",
      "Strategy;Action & Adventure : 0.011280315848843767\n",
      "Simulation;Education : 0.011280315848843767\n",
      "Role Playing;Brain Games : 0.011280315848843767\n",
      "Racing;Pretend Play : 0.011280315848843767\n",
      "Puzzle;Education : 0.011280315848843767\n",
      "Parenting;Brain Games : 0.011280315848843767\n",
      "Music & Audio;Music & Video : 0.011280315848843767\n",
      "Lifestyle;Pretend Play : 0.011280315848843767\n",
      "Lifestyle;Education : 0.011280315848843767\n",
      "Health & Fitness;Education : 0.011280315848843767\n",
      "Health & Fitness;Action & Adventure : 0.011280315848843767\n",
      "Entertainment;Education : 0.011280315848843767\n",
      "Communication;Creativity : 0.011280315848843767\n",
      "Comics;Creativity : 0.011280315848843767\n",
      "Casual;Music & Video : 0.011280315848843767\n",
      "Card;Action & Adventure : 0.011280315848843767\n",
      "Books & Reference;Education : 0.011280315848843767\n",
      "Art & Design;Pretend Play : 0.011280315848843767\n",
      "Art & Design;Action & Adventure : 0.011280315848843767\n",
      "Arcade;Pretend Play : 0.011280315848843767\n",
      "Adventure;Education : 0.011280315848843767\n"
     ]
    }
   ],
   "source": [
    "print(\"Sorted by category in descending order (%) \\n \\n\")\n",
    "display_table(andfinal,1)\n",
    "print(\" \\n \\nSorted by genre in descending order (%) \\n \\n\")\n",
    "display_table(andfinal,9)"
   ]
  },
  {
   "cell_type": "markdown",
   "metadata": {},
   "source": [
    "From simply analysing the genres, we see that 19.86% of apps belong to either the tools , entertainment or education category.\n",
    "\n",
    "Furthermore we also see that apps that come under categories such as Family, games or tools consist of 37.08 of the total share of apps\n",
    "\n",
    "An app profile that can reach out to maximum amount of users should belong to -: \n",
    "\n",
    "Genres : Tools , Entertainment or Education\n",
    "\n",
    "Categories : Family, Game or Tools\n"
   ]
  },
  {
   "cell_type": "markdown",
   "metadata": {},
   "source": [
    "## Analysing free English iOS apps"
   ]
  },
  {
   "cell_type": "code",
   "execution_count": 24,
   "metadata": {},
   "outputs": [
    {
     "name": "stdout",
     "output_type": "stream",
     "text": [
      "Sorted by genre in descending order (%) \n",
      " \n",
      "\n",
      "Games : 58.16263190564867\n",
      "Entertainment : 7.883302296710118\n",
      "Photo & Video : 4.9658597144630665\n",
      "Education : 3.662321539416512\n",
      "Social Networking : 3.2898820608317814\n",
      "Shopping : 2.60707635009311\n",
      "Utilities : 2.5139664804469275\n",
      "Sports : 2.1415270018621975\n",
      "Music : 2.0484171322160147\n",
      "Health & Fitness : 2.0173805090006205\n",
      "Productivity : 1.7380509000620732\n",
      "Lifestyle : 1.5828677839851024\n",
      "News : 1.3345747982619491\n",
      "Travel : 1.2414649286157666\n",
      "Finance : 1.1173184357541899\n",
      "Weather : 0.8690254500310366\n",
      "Food & Drink : 0.8069522036002483\n",
      "Reference : 0.5586592178770949\n",
      "Business : 0.5276225946617008\n",
      "Book : 0.4345127250155183\n",
      "Navigation : 0.186219739292365\n",
      "Medical : 0.186219739292365\n",
      "Catalogs : 0.12414649286157665\n"
     ]
    }
   ],
   "source": [
    "print (\"Sorted by genre in descending order (%) \\n \\n\")\n",
    "display_table(iosfinal,11)"
   ]
  },
  {
   "cell_type": "markdown",
   "metadata": {},
   "source": [
    "Upon analysing iOS store apps , we see that a whopping 58.16 % of apps belong to the game genre followed by a distant Entertainment having 7.88 %"
   ]
  },
  {
   "cell_type": "markdown",
   "metadata": {},
   "source": [
    "We can further find out which genres have the most users by calculating the average number of installs for each ap genre.\n",
    "\n",
    "In the case of google play data set, we have a column installs which can be used to determine this but this information is missing in the app store data set.\n",
    "\n",
    "Instead, to determine this, we can use the total number of user ratings for a particular genre and then divide it by the total number of apps belonging to that genre."
   ]
  },
  {
   "cell_type": "code",
   "execution_count": 25,
   "metadata": {},
   "outputs": [
    {
     "name": "stdout",
     "output_type": "stream",
     "text": [
      "Shopping : 26919.690476190477\n",
      "Photo & Video : 28441.54375\n",
      "Travel : 28243.8\n",
      "Utilities : 18684.456790123455\n",
      "Navigation : 86090.33333333333\n",
      "Social Networking : 71548.34905660378\n",
      "Business : 7491.117647058823\n",
      "Book : 39758.5\n",
      "Catalogs : 4004.0\n",
      "Finance : 31467.944444444445\n",
      "Music : 57326.530303030304\n",
      "Games : 22788.6696905016\n",
      "Entertainment : 14029.830708661417\n",
      "Productivity : 21028.410714285714\n",
      "Medical : 612.0\n",
      "Food & Drink : 33333.92307692308\n",
      "Health & Fitness : 23298.015384615384\n",
      "Education : 7003.983050847458\n",
      "News : 21248.023255813954\n",
      "Sports : 23008.898550724636\n",
      "Weather : 52279.892857142855\n",
      "Lifestyle : 16485.764705882353\n",
      "Reference : 74942.11111111111\n"
     ]
    }
   ],
   "source": [
    "gdict = freq_table(iosfinal,11)\n",
    "for genre in gdict:\n",
    "    total=0\n",
    "    len_genre=0\n",
    "    for app in iosfinal:\n",
    "        genre_app = app[11]\n",
    "        if genre_app == genre:\n",
    "            usr = float(app[5])\n",
    "            total += usr\n",
    "            len_genre += 1\n",
    "    avgusr = total / len_genre\n",
    "    print(genre,\":\" ,avgusr)\n",
    "        \n",
    "    "
   ]
  },
  {
   "cell_type": "markdown",
   "metadata": {},
   "source": [
    "Upon analysis, we see that Navigation apps have the highest number of ratings.\n",
    "\n",
    "We will now check the navigation apps to see the ratings for individual apps\n"
   ]
  },
  {
   "cell_type": "code",
   "execution_count": 26,
   "metadata": {},
   "outputs": [
    {
     "name": "stdout",
     "output_type": "stream",
     "text": [
      "Waze - GPS Navigation, Maps & Real-time Traffic : 345046\n",
      "Google Maps - Navigation & Transit : 154911\n",
      "Geocaching® : 12811\n",
      "CoPilot GPS – Car Navigation & Offline Maps : 3582\n",
      "ImmobilienScout24: Real Estate Search in Germany : 187\n",
      "Railway Route Search : 5\n"
     ]
    }
   ],
   "source": [
    "for app in iosfinal:\n",
    "    gen = app[11]\n",
    "    if gen == 'Navigation':\n",
    "        print(app[1],\":\",app[5])"
   ]
  },
  {
   "cell_type": "markdown",
   "metadata": {},
   "source": [
    "We see that the 2 apps Waze and Google Maps have a large number of reviews which could result in the data being skewed"
   ]
  },
  {
   "cell_type": "markdown",
   "metadata": {},
   "source": [
    "We also see the social networking genre having a high amount of reviews as these apps usually encourage repeated visits and as such more users.\n",
    "\n",
    "Let us check these apps as well"
   ]
  },
  {
   "cell_type": "code",
   "execution_count": 27,
   "metadata": {},
   "outputs": [
    {
     "name": "stdout",
     "output_type": "stream",
     "text": [
      "Facebook : 2974676\n",
      "Pinterest : 1061624\n",
      "Skype for iPhone : 373519\n",
      "Messenger : 351466\n",
      "Tumblr : 334293\n",
      "WhatsApp Messenger : 287589\n",
      "Kik : 260965\n",
      "ooVoo – Free Video Call, Text and Voice : 177501\n",
      "TextNow - Unlimited Text + Calls : 164963\n",
      "Viber Messenger – Text & Call : 164249\n",
      "Followers - Social Analytics For Instagram : 112778\n",
      "MeetMe - Chat and Meet New People : 97072\n",
      "We Heart It - Fashion, wallpapers, quotes, tattoos : 90414\n",
      "InsTrack for Instagram - Analytics Plus More : 85535\n",
      "Tango - Free Video Call, Voice and Chat : 75412\n",
      "LinkedIn : 71856\n",
      "Match™ - #1 Dating App. : 60659\n",
      "Skype for iPad : 60163\n",
      "POF - Best Dating App for Conversations : 52642\n",
      "Timehop : 49510\n",
      "Find My Family, Friends & iPhone - Life360 Locator : 43877\n",
      "Whisper - Share, Express, Meet : 39819\n",
      "Hangouts : 36404\n",
      "LINE PLAY - Your Avatar World : 34677\n",
      "WeChat : 34584\n",
      "Badoo - Meet New People, Chat, Socialize. : 34428\n",
      "Followers + for Instagram - Follower Analytics : 28633\n",
      "GroupMe : 28260\n",
      "Marco Polo Video Walkie Talkie : 27662\n",
      "Miitomo : 23965\n",
      "SimSimi : 23530\n",
      "Grindr - Gay and same sex guys chat, meet and date : 23201\n",
      "Wishbone - Compare Anything : 20649\n",
      "imo video calls and chat : 18841\n",
      "After School - Funny Anonymous School News : 18482\n",
      "Quick Reposter - Repost, Regram and Reshare Photos : 17694\n",
      "Weibo HD : 16772\n",
      "Repost for Instagram : 15185\n",
      "Live.me – Live Video Chat & Make Friends Nearby : 14724\n",
      "Nextdoor : 14402\n",
      "Followers Analytics for Instagram - InstaReport : 13914\n",
      "YouNow: Live Stream Video Chat : 12079\n",
      "FollowMeter for Instagram - Followers Tracking : 11976\n",
      "LINE : 11437\n",
      "eHarmony™ Dating App - Meet Singles : 11124\n",
      "Discord - Chat for Gamers : 9152\n",
      "QQ : 9109\n",
      "Telegram Messenger : 7573\n",
      "Weibo : 7265\n",
      "Periscope - Live Video Streaming Around the World : 6062\n",
      "Chat for Whatsapp - iPad Version : 5060\n",
      "QQ HD : 5058\n",
      "Followers Analysis Tool For Instagram App Free : 4253\n",
      "live.ly - live video streaming : 4145\n",
      "Houseparty - Group Video Chat : 3991\n",
      "SOMA Messenger : 3232\n",
      "Monkey : 3060\n",
      "Down To Lunch : 2535\n",
      "Flinch - Video Chat Staring Contest : 2134\n",
      "Highrise - Your Avatar Community : 2011\n",
      "LOVOO - Dating Chat : 1985\n",
      "PlayStation®Messages : 1918\n",
      "BOO! - Video chat camera with filters & stickers : 1805\n",
      "Qzone : 1649\n",
      "Chatous - Chat with new people : 1609\n",
      "Kiwi - Q&A : 1538\n",
      "GhostCodes - a discovery app for Snapchat : 1313\n",
      "Jodel : 1193\n",
      "FireChat : 1037\n",
      "Google Duo - simple video calling : 1033\n",
      "Fiesta by Tango - Chat & Meet New People : 885\n",
      "Google Allo — smart messaging : 862\n",
      "Peach — share vividly : 727\n",
      "Hey! VINA - Where Women Meet New Friends : 719\n",
      "Battlefield™ Companion : 689\n",
      "All Devices for WhatsApp - Messenger for iPad : 682\n",
      "Chat for Pokemon Go - GoChat : 500\n",
      "IAmNaughty – Dating App to Meet New People Online : 463\n",
      "Qzone HD : 458\n",
      "Zenly - Locate your friends in realtime : 427\n",
      "League of Legends Friends : 420\n",
      "豆瓣 : 407\n",
      "Candid - Speak Your Mind Freely : 398\n",
      "知乎 : 397\n",
      "Selfeo : 366\n",
      "Fake-A-Location Free ™ : 354\n",
      "Popcorn Buzz - Free Group Calls : 281\n",
      "Fam — Group video calling for iMessage : 279\n",
      "QQ International : 274\n",
      "Ameba : 269\n",
      "SoundCloud Pulse: for creators : 240\n",
      "Tantan : 235\n",
      "Cougar Dating & Life Style App for Mature Women : 213\n",
      "Rawr Messenger - Dab your chat : 180\n",
      "WhenToPost: Best Time to Post Photos for Instagram : 158\n",
      "Inke—Broadcast an amazing life : 147\n",
      "Mustknow - anonymous video Q&A : 53\n",
      "CTFxCmoji : 39\n",
      "Lobi : 36\n",
      "Chain: Collaborate On MyVideo Story/Group Video : 35\n",
      "botman - Real time video chat : 7\n",
      "BestieBox : 0\n",
      "MATCH ON LINE chat : 0\n",
      "niconico ch : 0\n",
      "LINE BLOG : 0\n",
      "bit-tube - Live Stream Video Chat : 0\n"
     ]
    }
   ],
   "source": [
    "for app in iosfinal:\n",
    "    gen = app[11]\n",
    "    if gen == 'Social Networking':\n",
    "        print(app[1],\":\",app[5])"
   ]
  },
  {
   "cell_type": "markdown",
   "metadata": {},
   "source": [
    "Once again, we see that big companies and their apps such as Facebook, Pinterest and Skype have an unusually high amount of user reviews which could skew our data\n",
    "\n",
    "Checking Reference apps also leads to similar conclusions with Bible and Dictionary.com apps having the vast majority of reviews\n"
   ]
  },
  {
   "cell_type": "code",
   "execution_count": 28,
   "metadata": {},
   "outputs": [
    {
     "name": "stdout",
     "output_type": "stream",
     "text": [
      "Bible : 985920\n",
      "Dictionary.com Dictionary & Thesaurus : 200047\n",
      "Dictionary.com Dictionary & Thesaurus for iPad : 54175\n",
      "Google Translate : 26786\n",
      "Muslim Pro: Ramadan 2017 Prayer Times, Azan, Quran : 18418\n",
      "New Furniture Mods - Pocket Wiki & Game Tools for Minecraft PC Edition : 17588\n",
      "Merriam-Webster Dictionary : 16849\n",
      "Night Sky : 12122\n",
      "City Maps for Minecraft PE - The Best Maps for Minecraft Pocket Edition (MCPE) : 8535\n",
      "LUCKY BLOCK MOD ™ for Minecraft PC Edition - The Best Pocket Wiki & Mods Installer Tools : 4693\n",
      "GUNS MODS for Minecraft PC Edition - Mods Tools : 1497\n",
      "Guides for Pokémon GO - Pokemon GO News and Cheats : 826\n",
      "WWDC : 762\n",
      "Horror Maps for Minecraft PE - Download The Scariest Maps for Minecraft Pocket Edition (MCPE) Free : 718\n",
      "VPN Express : 14\n",
      "Real Bike Traffic Rider Virtual Reality Glasses : 8\n",
      "教えて!goo : 0\n",
      "Jishokun-Japanese English Dictionary & Translator : 0\n"
     ]
    }
   ],
   "source": [
    "for app in iosfinal:\n",
    "    if app[-5] == 'Reference':\n",
    "        print(app[1], ':', app[5])"
   ]
  },
  {
   "cell_type": "markdown",
   "metadata": {},
   "source": [
    "For the most part, as seen from the percentage of games, we can analyse that iOS apps usually seem to be for fun apps.\n",
    "\n",
    "There seems to be significant potential for apps that can combine gamification with any of these genres\n",
    "\n",
    "Since our goal is to create an app or free with in-app purchases or ads, we need to create an app that the user spends significant time on. This removes the possibility of weather apps, or transportation apps such as flight or train information as people generally do not spend more time on such apps.\n",
    "\n",
    "An idea for an app could include a reference/education app where users have to engage in a game in order to learn something which could also include daily rewards/tips. This type of app sounds like something more up our alley as people will generally spend more time on these apps thereby making in-app ads/purchases more rewarding."
   ]
  },
  {
   "cell_type": "markdown",
   "metadata": {},
   "source": [
    "# Analysing free English Play Store Apps"
   ]
  },
  {
   "cell_type": "markdown",
   "metadata": {},
   "source": [
    "In the case of Play Store Apps , we can see that we have a column for installs which we can use in our study. The drawback with this column however is that the number of installs isnt an exact accurate number but an open ended estimate.\n",
    "\n",
    "However, since we simply require information on which genres of apps attract how many people, this information should suffice."
   ]
  },
  {
   "cell_type": "code",
   "execution_count": 29,
   "metadata": {
    "scrolled": true
   },
   "outputs": [
    {
     "name": "stdout",
     "output_type": "stream",
     "text": [
      "1,000,000+ : 15.724760293288211\n",
      "100,000+ : 11.551043429216017\n",
      "10,000,000+ : 10.547095318668923\n",
      "10,000+ : 10.197405527354766\n",
      "1,000+ : 8.403835307388608\n",
      "100+ : 6.91483361534123\n",
      "5,000,000+ : 6.824591088550479\n",
      "500,000+ : 5.561195713479977\n",
      "50,000+ : 4.771573604060913\n",
      "5,000+ : 4.512126339537507\n",
      "10+ : 3.542019176536943\n",
      "500+ : 3.248730964467005\n",
      "50,000,000+ : 2.3011844331641287\n",
      "100,000,000+ : 2.131979695431472\n",
      "50+ : 1.9176536943034406\n",
      "5+ : 0.7896221094190639\n",
      "1+ : 0.5076142131979695\n",
      "500,000,000+ : 0.2707275803722504\n",
      "1,000,000,000+ : 0.2256063169768754\n",
      "0+ : 0.04512126339537507\n",
      "0 : 0.011280315848843767\n"
     ]
    }
   ],
   "source": [
    "display_table(andfinal,5)"
   ]
  },
  {
   "cell_type": "code",
   "execution_count": 36,
   "metadata": {},
   "outputs": [
    {
     "name": "stdout",
     "output_type": "stream",
     "text": [
      "GAME : 15588015.603248259\n",
      "MEDICAL : 120550.61980830671\n",
      "FOOD_AND_DRINK : 1924897.7363636363\n",
      "HOUSE_AND_HOME : 1331540.5616438356\n",
      "ENTERTAINMENT : 11640705.88235294\n",
      "BOOKS_AND_REFERENCE : 8767811.894736841\n",
      "LIFESTYLE : 1433675.5878962537\n",
      "BUSINESS : 1712290.1474201474\n",
      "WEATHER : 5074486.197183099\n",
      "EVENTS : 253542.22222222222\n",
      "VIDEO_PLAYERS : 24727872.452830188\n",
      "MAPS_AND_NAVIGATION : 4056941.7741935486\n",
      "EDUCATION : 1833495.145631068\n",
      "HEALTH_AND_FITNESS : 4188821.9853479853\n",
      "BEAUTY : 513151.88679245283\n",
      "PRODUCTIVITY : 16787331.344927534\n",
      "COMICS : 817657.2727272727\n",
      "FINANCE : 1387692.475609756\n",
      "PERSONALIZATION : 5201482.6122448975\n",
      "FAMILY : 3695641.8198090694\n",
      "SHOPPING : 7036877.311557789\n",
      "ART_AND_DESIGN : 1986335.0877192982\n",
      "TOOLS : 10801391.298666667\n",
      "DATING : 854028.8303030303\n",
      "PARENTING : 542603.6206896552\n",
      "COMMUNICATION : 38456119.167247385\n",
      "AUTO_AND_VEHICLES : 647317.8170731707\n",
      "SOCIAL : 23253652.127118643\n",
      "LIBRARIES_AND_DEMO : 638503.734939759\n",
      "PHOTOGRAPHY : 17840110.40229885\n",
      "TRAVEL_AND_LOCAL : 13984077.710144928\n",
      "SPORTS : 3638640.1428571427\n",
      "NEWS_AND_MAGAZINES : 9549178.467741935\n"
     ]
    }
   ],
   "source": [
    "gcat = freq_table(andfinal,1)\n",
    "for cat in gcat:\n",
    "    tot=0\n",
    "    uniqc=0\n",
    "    for key in andfinal:\n",
    "        cate=key[1]\n",
    "        if cat==cate:\n",
    "            installs=key[5]\n",
    "            installs=installs.replace('+','')\n",
    "            installs=installs.replace(',','')\n",
    "            tot += float(installs)\n",
    "            uniqc += 1\n",
    "    avgins= tot / uniqc\n",
    "    print(cat,':',avgins)\n",
    "            "
   ]
  },
  {
   "cell_type": "markdown",
   "metadata": {},
   "source": [
    "We see that the communication category has the most app installs with around 38,456,119.\n",
    "\n",
    "We can check this category further:\n"
   ]
  },
  {
   "cell_type": "code",
   "execution_count": 52,
   "metadata": {},
   "outputs": [
    {
     "name": "stdout",
     "output_type": "stream",
     "text": [
      "WhatsApp Messenger   1,000,000,000+\n",
      "imo beta free calls and text   100,000,000+\n",
      "Android Messages   100,000,000+\n",
      "Google Duo - High Quality Video Calls   500,000,000+\n",
      "Messenger – Text and Video Chat for Free   1,000,000,000+\n",
      "imo free video calls and chat   500,000,000+\n",
      "Skype - free IM & video calls   1,000,000,000+\n",
      "Who   100,000,000+\n",
      "GO SMS Pro - Messenger, Free Themes, Emoji   100,000,000+\n",
      "LINE: Free Calls & Messages   500,000,000+\n",
      "Google Chrome: Fast & Secure   1,000,000,000+\n",
      "Firefox Browser fast & private   100,000,000+\n",
      "UC Browser - Fast Download Private & Secure   500,000,000+\n",
      "Gmail   1,000,000,000+\n",
      "Hangouts   1,000,000,000+\n",
      "Messenger Lite: Free Calls & Messages   100,000,000+\n",
      "Kik   100,000,000+\n",
      "KakaoTalk: Free Calls & Text   100,000,000+\n",
      "Opera Mini - fast web browser   100,000,000+\n",
      "Opera Browser: Fast and Secure   100,000,000+\n",
      "Telegram   100,000,000+\n",
      "Truecaller: Caller ID, SMS spam blocking & Dialer   100,000,000+\n",
      "UC Browser Mini -Tiny Fast Private & Secure   100,000,000+\n",
      "Viber Messenger   500,000,000+\n",
      "WeChat   100,000,000+\n",
      "Yahoo Mail – Stay Organized   100,000,000+\n",
      "BBM - Free Calls & Messages   100,000,000+\n"
     ]
    }
   ],
   "source": [
    "for row in andfinal:\n",
    "    if row[1]=='COMMUNICATION' and (row[5] == '1,000,000,000+'\n",
    "                                      or row[5] == '500,000,000+'\n",
    "                                      or row[5] == '100,000,000+'):\n",
    "        print (row[0],\" \",row[5])"
   ]
  },
  {
   "cell_type": "markdown",
   "metadata": {},
   "source": [
    "From the above results , we see that few extremely popular apps (Skype - free IM & video calls , Google Chrome: Fast & Secure , Messenger – Text and Video Chat for Free , WhatsApp Messenger) have over 1,000,000,000+ installs. \n",
    "\n",
    "These results tend to skew our analysis and if removed, would greatly reduce the amount of average installs\n",
    "\n",
    "Since we were interested in an education or training app, we can check this catergory as well. This is done below:"
   ]
  },
  {
   "cell_type": "code",
   "execution_count": 58,
   "metadata": {},
   "outputs": [
    {
     "name": "stdout",
     "output_type": "stream",
     "text": [
      "Google Play Books   1,000,000,000+\n",
      "Bible   100,000,000+\n",
      "Amazon Kindle   100,000,000+\n",
      "Wattpad 📖 Free Books   100,000,000+\n",
      "Audiobooks from Audible   100,000,000+\n"
     ]
    }
   ],
   "source": [
    "for row in andfinal:\n",
    "    if (row[1]=='BOOKS_AND_REFERENCE' or row[1]=='EDUCATION') and (row[5] == '1,000,000,000+'\n",
    "                                      or row[5] == '500,000,000+'\n",
    "                                      or row[5] == '100,000,000+'):\n",
    "        print (row[0],\" \",row[5])"
   ]
  },
  {
   "cell_type": "markdown",
   "metadata": {},
   "source": [
    "As we can see here, The only apps with the highest amount of installs are the  apps from big companies such as Google Play Books , Amazon Kindle and Audible. The other app that has a high amount of installs was seen earlier as well which is the Bible. \n",
    "\n",
    "As such this section has a great amount of potential in both the play store and iOS appstore.\n",
    "\n",
    "Furthermore, it can be seen that in both the stores , games and entertainment are the most commonly installed/reviewed apps.\n",
    "\n",
    "An idea for an app that has the potential to be succesful is an education/reference app , one which can teach the user a skill or provide a resource. This can be improved even further if we add a mini game aspect to it thereby providing entertainment value to the app as well."
   ]
  },
  {
   "cell_type": "markdown",
   "metadata": {},
   "source": [
    "# Conclusion\n",
    "\n",
    "From our study , we can draw the following conclusions:\n",
    "\n",
    "1.It can be seen that in both the stores , games and entertainment are the most commonly installed/reviewed apps.\n",
    "\n",
    "2.Social Networking and Communication apps have the highest users , however creating apps in these categories is extremely unrewarding as they are dominated by various apps with a billion plus installs already.\n",
    "\n",
    "3.The most promising category for a profitable app seems to be the Education/Reference category. \n",
    "This category has very few apps with high amount of installs and these apps serve a very distinct purpose.\n",
    "\n",
    "An idea for an app that has the potential to be succesful is an education/reference app , one which can teach the user a skill or provide a resource. This can be improved even further if we add a mini game aspect to it thereby providing entertainment value to the app as well.\n",
    "\n",
    "\n"
   ]
  }
 ],
 "metadata": {
  "kernelspec": {
   "display_name": "Python 3",
   "language": "python",
   "name": "python3"
  },
  "language_info": {
   "codemirror_mode": {
    "name": "ipython",
    "version": 3
   },
   "file_extension": ".py",
   "mimetype": "text/x-python",
   "name": "python",
   "nbconvert_exporter": "python",
   "pygments_lexer": "ipython3",
   "version": "3.7.3"
  }
 },
 "nbformat": 4,
 "nbformat_minor": 2
}
